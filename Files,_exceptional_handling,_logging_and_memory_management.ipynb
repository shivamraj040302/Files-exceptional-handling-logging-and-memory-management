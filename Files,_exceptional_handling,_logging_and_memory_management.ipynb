{
  "nbformat": 4,
  "nbformat_minor": 0,
  "metadata": {
    "colab": {
      "provenance": []
    },
    "kernelspec": {
      "name": "python3",
      "display_name": "Python 3"
    },
    "language_info": {
      "name": "python"
    }
  },
  "cells": [
    {
      "cell_type": "markdown",
      "source": [
        "**Files, exceptional handling, logging and memory management Questions**\n",
        "\n"
      ],
      "metadata": {
        "id": "HoBj1ZlOKLYF"
      }
    },
    {
      "cell_type": "markdown",
      "source": [
        "1.What is the difference between interpreted and compiled languages?\n",
        "- The difference between interpreted and compiled languages lies in how their code is translated into machine-readable instructions:\n",
        "\n",
        "- Compiled Languages Definition: Code is translated all at once into machine code by a compiler before execution.\n",
        "Examples: C, C++, Rust, Go\n",
        "\n",
        "- Process:\n",
        "  - You write source code.\n",
        "  - A compiler translates it into an executable binary.\n",
        "  - You run the binary.\n",
        "\n",
        "- Advantages:\n",
        "  - Faster execution (since translation is done ahead of time).\n",
        "  - Better optimization by the compiler.\n",
        "\n",
        "- Disadvantages:\n",
        "  - Slower development cycle (compile → run → debug).\n",
        "  - Less flexible for dynamic features.\n",
        "\n",
        "- Interpreted Languages Definition: Code is executed line-by-line by an interpreter at runtime.\n",
        "Examples: Python, JavaScript, Ruby, PHP\n",
        "\n",
        "- Process:\n",
        "  - You write source code.\n",
        "  - An interpreter reads and executes it directly.\n",
        "\n",
        "- Advantages:\n",
        "  - Easier to test and debug quickly.\n",
        "  - More flexibility for dynamic typing and code changes.\n",
        "\n",
        "- Disadvantages:\n",
        "  - Slower execution (since it's interpreted every time).\n",
        "  - Less optimization.\n"
      ],
      "metadata": {
        "id": "A_fBg8X9JYl4"
      }
    },
    {
      "cell_type": "markdown",
      "source": [
        "2.What is exception handling in Python?\n",
        "- Exception handling in Python is a way to gracefully handle errors that occur during program execution, instead of crashing the program. It lets you manage unexpected events (like file not found, division by zero, etc.) and take corrective action.\n",
        "- Why Use Exception Handling?\n",
        "  - Without handling, an error (or exception) will stop the program. Exception handling lets you:\n",
        "  - Prevent crashes\n",
        "  - Show user-friendly error messages\n",
        "  - Log issues\n",
        "  - Retry operations or provide alternatives\n",
        "\n"
      ],
      "metadata": {
        "id": "gtFBJEdvK43K"
      }
    },
    {
      "cell_type": "markdown",
      "source": [
        "3.What is the purpose of the finally block in exception handling?\n",
        "- The finally block in Python's exception handling is used to define code that should always run, no matter what happens in the try or except blocks.\n",
        "\n",
        "- Purpose of finally:\n",
        "  - Cleanup actions: Close files, release resources, disconnect from networks or databases, etc.\n",
        "  - Ensures that certain operations happen regardless of success or failure in the try block.\n",
        "\n",
        "- Always Executes\n",
        "  - Runs whether or not an exception occurs.\n",
        "  - Runs even if the exception is not caught.\n",
        "  - Runs even if there is a return, break, or continue in the try or except."
      ],
      "metadata": {
        "id": "GqkUC4CYLJRH"
      }
    },
    {
      "cell_type": "markdown",
      "source": [
        "4.What is logging in Python?\n",
        "- Logging in Python is the process of recording events that happen during the execution of a program. It helps developers understand the flow, detect bugs, and keep a record of runtime activity — especially useful for debugging and monitoring production systems.\n",
        "\n",
        "- Why Use Logging Instead of print()?\n",
        "  - More flexible (you can control the level, format, and destination of logs)\n",
        "  - Easily disabled or redirected without changing code logic\n",
        "  - Suitable for production use (can log to files, servers, etc.)\n",
        "\n",
        "- Useful Features\n",
        "  - Log to console, file, email, or remote servers\n",
        "  - Rotate log files to limit size\n",
        "  - Add context like timestamps, function names, line numbers\n",
        "  - Create multiple loggers for different parts of your app"
      ],
      "metadata": {
        "id": "3fECv6teLef1"
      }
    },
    {
      "cell_type": "markdown",
      "source": [
        "5.What is the significance of the __del__ method in Python?\n",
        "- The __del__ method in Python is a special destructor method. It is called when an object is about to be destroyed, i.e., when its reference count reaches zero and the object is being garbage collected.\n",
        "\n",
        "- Significance:\n",
        "  - Resource Cleanup:\n",
        "  - Used to release external resources like file handles, network connections, or database connections before an object is destroyed.\n",
        "\n",
        "- Debugging and Logging:\n",
        "  - Helpful for logging object lifecycle or tracking memory issues during development."
      ],
      "metadata": {
        "id": "KLiFAzeVMNH_"
      }
    },
    {
      "cell_type": "markdown",
      "source": [
        "6.What is the difference between import and from ... import in Python?\n",
        "- In Python, both import and from ... import are used to bring code from modules into your program, but they work differently and serve different purposes.\n",
        "\n",
        "1.import Statement\n",
        "- What it does:\n",
        "  - Imports the entire module.\n",
        "  - You need to use the module name as a prefix to access its members.\n",
        "  \n",
        "Pros:\n",
        "- Makes it clear where each function/class came from.\n",
        "- Avoids name collisions.\n",
        "\n",
        "Cons:\n",
        "- Slightly more verbose.\n",
        "\n",
        "\n",
        "\n",
        "2.from ... import Statement\n",
        "- What it does:\n",
        "  - Imports specific attributes (functions, classes, variables) from a module.\n",
        "  - You can use the imported names directly without prefixing the module name.\n",
        "\n",
        "Pros:\n",
        "- Code is shorter and cleaner.\n",
        "- Good when you only need a few items from a large module.\n",
        "\n",
        "Cons:\n",
        "- Can lead to name collisions if the same name exists in multiple modules or your code.\n",
        "- Makes it less obvious where a function or class came from.\n",
        "\n",
        "\n"
      ],
      "metadata": {
        "id": "TXP9t8wSMubs"
      }
    },
    {
      "cell_type": "markdown",
      "source": [
        "7.How can you handle multiple exceptions in Python?\n",
        "- 1.Handle Multiple Exceptions Separately\n",
        "You can catch different exceptions in separate except blocks:"
      ],
      "metadata": {
        "id": "9Skwcc96Nwpq"
      }
    },
    {
      "cell_type": "code",
      "source": [
        "try:\n",
        "    x = int(input(\"Enter a number: \"))\n",
        "    result = 10 / x\n",
        "except ValueError:\n",
        "    print(\"Invalid input. Please enter a number.\")\n",
        "except ZeroDivisionError:\n",
        "    print(\"Cannot divide by zero.\")\n"
      ],
      "metadata": {
        "colab": {
          "base_uri": "https://localhost:8080/"
        },
        "id": "lnDPJ1a-K4On",
        "outputId": "d845a579-d8e5-4db9-cf5c-fe7868c529b9"
      },
      "execution_count": 3,
      "outputs": [
        {
          "output_type": "stream",
          "name": "stdout",
          "text": [
            "Enter a number: 0\n",
            "Cannot divide by zero.\n"
          ]
        }
      ]
    },
    {
      "cell_type": "markdown",
      "source": [
        "- 2.Handle Multiple Exceptions in a Single Block\n",
        "Use a tuple of exceptions in one except block:"
      ],
      "metadata": {
        "id": "WPuJKM2AOP-r"
      }
    },
    {
      "cell_type": "code",
      "source": [
        "try:\n",
        "    x = int(input(\"Enter a number: \"))\n",
        "    result = 10 / x\n",
        "except (ValueError, ZeroDivisionError) as e:\n",
        "    print(f\"Error: {e}\")\n"
      ],
      "metadata": {
        "colab": {
          "base_uri": "https://localhost:8080/"
        },
        "id": "DotrWNQOOF91",
        "outputId": "264180ba-ac2f-4afb-b01d-b8ae57b91f1c"
      },
      "execution_count": 4,
      "outputs": [
        {
          "output_type": "stream",
          "name": "stdout",
          "text": [
            "Enter a number: 0\n",
            "Error: division by zero\n"
          ]
        }
      ]
    },
    {
      "cell_type": "markdown",
      "source": [
        "- 3.Catch All Exceptions (Not Recommended Usually)\n",
        "Use a general except clause:"
      ],
      "metadata": {
        "id": "gh-iayraOayp"
      }
    },
    {
      "cell_type": "code",
      "source": [
        "try:\n",
        "    x = int(input(\"Enter a number: \"))\n",
        "    result = 10 / x\n",
        "except Exception as e:\n",
        "    print(f\"An error occurred: {e}\")\n"
      ],
      "metadata": {
        "colab": {
          "base_uri": "https://localhost:8080/"
        },
        "id": "G-RoGy_zOVD8",
        "outputId": "f71a566d-2b94-47f1-c16b-1d93729abdb5"
      },
      "execution_count": 5,
      "outputs": [
        {
          "output_type": "stream",
          "name": "stdout",
          "text": [
            "Enter a number: 0\n",
            "An error occurred: division by zero\n"
          ]
        }
      ]
    },
    {
      "cell_type": "markdown",
      "source": [
        "4.else and finally Blocks (Optional Enhancements)"
      ],
      "metadata": {
        "id": "ERO2lNjcOkuB"
      }
    },
    {
      "cell_type": "code",
      "source": [
        "try:\n",
        "    x = int(input(\"Enter a number: \"))\n",
        "    result = 10 / x\n",
        "except (ValueError, ZeroDivisionError) as e:\n",
        "    print(f\"Error: {e}\")\n",
        "else:\n",
        "    print(f\"Result: {result}\")\n",
        "finally:\n",
        "    print(\"This block always runs.\")\n"
      ],
      "metadata": {
        "colab": {
          "base_uri": "https://localhost:8080/"
        },
        "id": "6mlt1XYxOgYJ",
        "outputId": "b7455d5e-e304-4943-c837-4963fe98b5a2"
      },
      "execution_count": 6,
      "outputs": [
        {
          "output_type": "stream",
          "name": "stdout",
          "text": [
            "Enter a number: 0\n",
            "Error: division by zero\n",
            "This block always runs.\n"
          ]
        }
      ]
    },
    {
      "cell_type": "markdown",
      "source": [
        "8.What is the purpose of the with statement when handling files in Python?\n",
        "- The with statement in Python is used to simplify resource management, especially when working with files. Its main purpose is to ensure proper acquisition and release of resources, such as opening and closing a file—even if an error occurs during file operations.\n",
        "\n",
        "Purpose of with for File Handling:\n",
        "- What it does:\n",
        "  - Opens the file.\n",
        "  - Assigns it to the variable file.\n",
        "  - Ensures the file is automatically closed when the block is exited, even if an exception is raised inside the block.\n",
        "\n"
      ],
      "metadata": {
        "id": "AFTVCXdQOuPy"
      }
    },
    {
      "cell_type": "markdown",
      "source": [
        "9.What is the difference between multithreading and multiprocessing?\n",
        "- The main difference between multithreading and multiprocessing in Python lies in how they handle concurrent execution and use system resources:\n",
        "\n",
        "✅ Multithreading\n",
        "Multiple threads within the same process share the same memory space.\n",
        "\n",
        "🔹 Key Features:\n",
        "Threads run in parallel, but due to the Global Interpreter Lock (GIL) in CPython, only one thread executes Python bytecode at a time.\n",
        "\n",
        "Best suited for I/O-bound tasks (like file I/O, network requests).\n",
        "\n",
        "Lightweight and low memory usage.\n",
        "\n",
        "🔹 Example use cases:\n",
        "Downloading multiple files simultaneously\n",
        "\n",
        "Reading/writing from multiple sockets\n",
        "\n",
        "✅ Multiprocessing\n",
        "Multiple processes, each with its own Python interpreter and memory space.\n",
        "\n",
        "🔹 Key Features:\n",
        "Bypasses the GIL — true parallelism on multi-core CPUs.\n",
        "\n",
        "Best suited for CPU-bound tasks (like data processing, heavy computation).\n",
        "\n",
        "Heavier and more memory-intensive than threads.\n",
        "\n",
        "🔹 Example use cases:\n",
        "Image processing\n",
        "\n",
        "Machine learning model training\n",
        "\n",
        "Large mathematical computations"
      ],
      "metadata": {
        "id": "NAxk3tYDPYS7"
      }
    },
    {
      "cell_type": "markdown",
      "source": [
        "10.What are the advantages of using logging in a program?\n",
        "- Using logging in a program offers several advantages over using simple print() statements. Logging is a built-in Python module designed for tracking events that happen while software runs—especially useful for debugging, monitoring, and auditing.\n",
        "\n",
        "- Advantages of Using Logging\n",
        "  - 1.Better Debugging and Error Tracking\n",
        "    - Logs help track down what happened and when.\n",
        "    - You can record tracebacks, variable values, and steps leading to an error.\n",
        "\n",
        "  - 2.Multiple Log Levels\n",
        "    - Log messages can be categorized by importance:\n",
        "    - Helps in filtering and prioritizing what you want to see or store.\n",
        "\n",
        "  - 3.Persistence\n",
        "    - Log messages can be written to files, databases, or external monitoring systems:\n",
        "  - 4.Flexible Output Formatting\n",
        "    - Customize log format with timestamps, line numbers, and more:\n",
        "  - 5.Separation from Standard Output\n",
        "    - Keeps debug/info messages out of the user-facing terminal, unlike print().\n",
        "  - 6.Runtime Configurability\n",
        "    - Logging behavior (level, format, destination) can be changed without modifying code logic.\n",
        "  - 7.Supports Large-Scale Applications\n",
        "    - Used in web servers, microservices, distributed systems, etc., where structured and consistent logging is essential for monitoring and troubleshooting."
      ],
      "metadata": {
        "id": "AFOa3kMYQC-Q"
      }
    },
    {
      "cell_type": "markdown",
      "source": [
        "11.What is memory management in Python?\n",
        "- Memory Management in Python\n",
        "Memory management in Python refers to the process of allocating, using, and freeing memory during a program's execution. Python handles memory automatically using a combination of built-in mechanisms and automatic garbage collection.\n",
        "\n",
        "🔹 Key Components of Python Memory Management\n",
        "1.Private Heap Space\n",
        "- All Python objects and data structures are stored in a private heap.\n",
        "- The programmer cannot access this heap directly, but Python does it internally.\n",
        "\n",
        "2.Memory Allocation\n",
        "- Python uses memory managers to allocate space for objects.\n",
        "- Python allocates memory in blocks of predefined sizes depending on the object type (e.g., int, list, str).\n",
        "\n",
        "3.Reference Counting\n",
        "- Every object has a reference count (number of references pointing to it).\n",
        "When the count reaches zero, the memory is marked for garbage collection\n",
        "\n",
        "4.Garbage Collection\n",
        "- Python uses automatic garbage collection to reclaim memory.\n",
        "- Uses a cyclic garbage collector to detect and clean up reference cycles.\n",
        "\n",
        "5.Object Pools (Interning)\n",
        "- Small integers and strings are interned (reused) to save memory."
      ],
      "metadata": {
        "id": "51xc4Q4wQ-Oa"
      }
    },
    {
      "cell_type": "markdown",
      "source": [
        "12.What are the basic steps involved in exception handling in Python?\n",
        "- Basic Steps in Exception Handling in Python\n",
        "Exception handling in Python is done using the try...except construct, possibly along with else and finally. The goal is to gracefully handle errors and prevent your program from crashing.\n",
        "- Step-by-Step Breakdown\n",
        " - 1.Try Block\n",
        "   - Wrap the risky code (code that may raise an exception) inside a try block.\n",
        " - 2.Except Block\n",
        "   - Catch and handle specific exceptions using one or more except blocks.\n",
        "   - You can also catch multiple exceptions.\n",
        "  - 3.Else Block (Optional)\n",
        "   - Runs only if no exception occurs in the try block.\n",
        "  - 4. Finally Block (Optional)\n",
        "   - Runs no matter what, even if an exception is raised or not—useful for cleanup code."
      ],
      "metadata": {
        "id": "fWYB5boLRo5k"
      }
    },
    {
      "cell_type": "markdown",
      "source": [
        "13.Why is memory management important in Python?\n",
        "- Memory management is crucial in Python (or any programming language) because it ensures your program:\n",
        "- Runs efficiently\n",
        "- Avoids crashes\n",
        "- Uses system resources wisely\n",
        "\n",
        "Here’s a detailed look at why memory management matters:\n",
        "\n",
        "🔹 1. Efficient Resource Utilization\n",
        "- Python programs use memory (RAM) to store variables, data structures, and objects.\n",
        "- Proper memory management ensures only needed memory is used, and unused memory is freed automatically.\n",
        "- Prevents bloated applications that slow down your computer or server.\n",
        "\n",
        "🔹 2. Prevents Memory Leaks\n",
        "- A memory leak occurs when memory that’s no longer needed isn’t released.\n",
        "- Python’s garbage collector helps avoid this by automatically deallocating unused objects.\n",
        "- Good memory management avoids exhausting available memory in long-running applications.\n",
        "\n",
        "🔹 3. Supports Scalability\n",
        "- Applications with good memory management can handle more data and users.\n",
        "- Especially important in web servers, data processing, and machine learning applications.\n",
        "\n",
        "🔹 4. Ensures Stability\n",
        "- Poor memory handling can lead to crashes, freezes, or “out of memory” errors.\n",
        "- With Python's automatic memory management (via reference counting and garbage collection), your code remains more stable over time.\n",
        "\n",
        "🔹 5. Boosts Performance\n",
        "- Efficient memory use often translates to faster execution.\n",
        "- Releasing unused memory frees up space for other operations.\n",
        "\n",
        "\n",
        "\n"
      ],
      "metadata": {
        "id": "VvBQSmCNSXls"
      }
    },
    {
      "cell_type": "markdown",
      "source": [
        "14.What is the role of try and except in exception handling?\n",
        "- The role of try and except in exception handling in Python is to:\n",
        "- try block: Enclose code that might raise an exception. It “tries” to execute the code inside it.\n",
        "- except block: Catch and handle specific exceptions if they occur inside the try block, preventing the program from crashing and allowing graceful error handling."
      ],
      "metadata": {
        "id": "UFvDYAa3TCm6"
      }
    },
    {
      "cell_type": "code",
      "source": [
        "try:\n",
        "    # Code that may cause an error\n",
        "    x = 10 / 0\n",
        "except ZeroDivisionError:\n",
        "    # Code to handle the error\n",
        "    print(\"Cannot divide by zero!\")\n"
      ],
      "metadata": {
        "colab": {
          "base_uri": "https://localhost:8080/"
        },
        "id": "wwiNo9DCPTHg",
        "outputId": "5900ded3-65c7-457f-aedd-637919d42959"
      },
      "execution_count": 8,
      "outputs": [
        {
          "output_type": "stream",
          "name": "stdout",
          "text": [
            "Cannot divide by zero!\n"
          ]
        }
      ]
    },
    {
      "cell_type": "markdown",
      "source": [
        "15.How does Python's garbage collection system work?\n",
        "- Python’s garbage collection system automatically manages memory by identifying and freeing objects that are no longer needed. It mainly uses two mechanisms:\n",
        "1.Reference Counting (Primary Mechanism)\n",
        "- Every object keeps a reference count—the number of references pointing to it.\n",
        "- When the reference count drops to zero, the object’s memory is immediately deallocated.\n",
        "2.Cyclic Garbage Collector (for Reference Cycles)\n",
        "- Reference counting alone can’t handle reference cycles (objects referencing each other).\n",
        "- Python’s gc module runs a cycle detector that finds groups of objects that reference each other but are no longer reachable from the program.\n",
        "- It then frees those cycles to avoid memory leaks.\n"
      ],
      "metadata": {
        "id": "v31uCV95TrAW"
      }
    },
    {
      "cell_type": "markdown",
      "source": [
        "16.What is the purpose of the else block in exception handling?\n",
        "- The else block in Python’s exception handling is an optional part that runs only if no exception was raised in the preceding try block.\n",
        "\n",
        "Purpose of the else block:\n",
        "- To execute code that should run only when the try block succeeds without errors.\n",
        "- Keeps the try block focused on the code that might raise exceptions.\n",
        "- Helps separate the normal flow from the error handling logic."
      ],
      "metadata": {
        "id": "uWmsQknMUGTL"
      }
    },
    {
      "cell_type": "markdown",
      "source": [
        "17.What are the common logging levels in Python?\n",
        "- Python's built-in logging module provides a set of standard logging levels to categorize the severity or importance of log messages. These levels help you control which messages are displayed or stored, allowing you to filter out less important information during production while getting detailed insights during development.\n",
        "\n",
        "Here are the common logging levels in Python, in increasing order of severity:\n",
        "\n",
        "DEBUG (10): Detailed information, typically only of interest to a developer trying to diagnose a problem. Use this for fine-grained events that occur during the normal operation of your program.\n",
        "\n",
        "INFO (20): Confirmation that things are working as expected. Use this for general confirmation messages, such as when a program starts or stops, or major steps in a process.\n",
        "\n",
        "WARNING (30): An indication that something unexpected happened, or indicative of some problem in the near future (e.g., 'disk space low'). The software is still working as expected. Use this for situations that are not errors but might require attention.\n",
        "\n",
        "ERROR (40): Due to a more serious problem, the software has not been able to perform some function. Use this for errors that prevent a specific operation from completing but don't necessarily stop the entire program.\n",
        "\n",
        "CRITICAL (50): A serious error, indicating that the program itself may be unable to continue running. Use this for severe errors that likely lead to the termination of the application or a complete system failure."
      ],
      "metadata": {
        "id": "rep7fRTZUcAt"
      }
    },
    {
      "cell_type": "markdown",
      "source": [
        "18.What is the difference between os.fork() and multiprocessing in Python?\n",
        "1. os.fork()\n",
        "What it is:\n",
        "A low-level system call available on Unix/Linux systems that creates a new child process by duplicating the current process.\n",
        "\n",
        "How it works:\n",
        "After fork(), you get two processes:\n",
        "\n",
        "The parent process continues running.\n",
        "\n",
        "The child process is an almost exact copy of the parent.\n",
        "\n",
        "Limitations:\n",
        "\n",
        "Only available on Unix/Linux (not Windows).\n",
        "\n",
        "You need to manually manage communication between parent and child processes.\n",
        "\n",
        "Lower-level and more error-prone for complex tasks.\n",
        "\n",
        "2. multiprocessing module\n",
        "What it is:\n",
        "A high-level Python library to create and manage processes in a platform-independent way (works on Windows, macOS, Linux).\n",
        "\n",
        "Features:\n",
        "\n",
        "Abstracts process creation and communication.\n",
        "\n",
        "Provides process pools, shared memory, queues, pipes, and more.\n",
        "\n",
        "Easier to write complex parallel programs.\n",
        "\n"
      ],
      "metadata": {
        "id": "erERPeuxU0Bb"
      }
    },
    {
      "cell_type": "markdown",
      "source": [
        "19.What is the importance of closing a file in Python?\n",
        "- Closing a file in Python is important because it:\n",
        "\n",
        "Frees system resources: Open files consume system resources (like file descriptors). Closing releases these resources for other processes or files.\n",
        "\n",
        "Ensures data is written: When writing to a file, data is often buffered in memory. Closing the file flushes these buffers, making sure all data is actually saved to disk.\n",
        "\n",
        "Prevents data corruption: Properly closing a file reduces the risk of file corruption or incomplete writes, especially if your program crashes or terminates unexpectedly.\n",
        "\n",
        "Avoids reaching system limits: Operating systems have limits on how many files a program can have open simultaneously. Closing files helps avoid hitting these limits.\n",
        "\n"
      ],
      "metadata": {
        "id": "IENK0h8-VDf6"
      }
    },
    {
      "cell_type": "markdown",
      "source": [
        "20.What is the difference between file.read() and file.readline() in Python?\n",
        "- Here’s the difference between file.read() and file.readline() in Python:\n",
        "1. file.read()\n",
        "  - Reads the entire contents of the file (or up to a specified number of bytes if you pass a size argument).\n",
        "  - Returns a single string containing everything.\n",
        "  - Useful when you want to process or load the whole file at once.\n",
        "\n",
        "2. file.readline()\n",
        "  - Reads one line from the file at a time.\n",
        "  - Returns a string containing the next line, including the newline character \\n at the end (unless it's the last line).\n",
        "  - Useful when you want to process a file line-by-line.\n",
        "\n"
      ],
      "metadata": {
        "id": "TOWTcIr5VX6F"
      }
    },
    {
      "cell_type": "markdown",
      "source": [
        "21.What is the logging module in Python used for?\n",
        "- The logging module in Python is used for tracking events that happen when your software runs. It allows you to record messages that describe the flow of a program and important occurrences like errors, warnings, or informational events.\n",
        "\n",
        "Key uses of the logging module:\n",
        "- Record program execution details: Helps track what your program is doing, which is useful during development and debugging.\n",
        "- Report errors and warnings: Logs problems or unexpected situations without stopping the program.\n",
        "- Monitor application behavior: In production, logging helps monitor performance and issues.\n",
        "- Flexible output: Logs can be written to the console, files, or external systems.\n",
        "- Different severity levels: You can categorize logs by importance (DEBUG, INFO, WARNING, ERROR, CRITICAL).\n",
        "\n"
      ],
      "metadata": {
        "id": "kUHCBJL1Vy-4"
      }
    },
    {
      "cell_type": "markdown",
      "source": [
        "22.What is the os module in Python used for in file handling?\n",
        "- The os module in Python provides a way to interact with the operating system, and in the context of file handling, it offers many useful functions to manage files and directories beyond just reading or writing file contents.\n",
        "\n",
        "Common uses of the os module for file handling:\n",
        "- File and directory operations:\n",
        "  - os.rename() — Rename a file or directory.\n",
        "  - os.remove() — Delete a file.\n",
        "  - os.mkdir() / os.makedirs() — Create directories.\n",
        "  - os.rmdir() / os.removedirs() — Remove directories.\n",
        "\n",
        "- Get file or directory information:\n",
        "  - os.path.exists() — Check if a file or directory exists.\n",
        "  - os.path.isfile() / os.path.isdir() — Check if a path is a file or directory.\n",
        "  - os.path.getsize() — Get the size of a file.\n",
        "  - os.path.abspath() — Get the absolute path of a file.\n",
        "\n",
        "- Working with paths:\n",
        "  - os.path.join() — Combine path components in a platform-independent way.\n",
        "  - os.path.basename() — Get the file name from a path.\n",
        "  - os.path.dirname() — Get the directory name from a path.\n",
        "\n",
        "- Change working directory:\n",
        "  - os.chdir() — Change the current working directory.\n",
        "  - os.getcwd() — Get the current working directory."
      ],
      "metadata": {
        "id": "EZRt1fgYWDMu"
      }
    },
    {
      "cell_type": "markdown",
      "source": [
        "23.What are the challenges associated with memory management in Python?\n",
        "- Here are some common challenges associated with memory management in Python:\n",
        "\n",
        "1. Reference Cycles\n",
        "Python’s main memory management uses reference counting, which fails to free memory when objects reference each other (cycles).\n",
        "\n",
        "Although Python has a cyclic garbage collector (gc), complex cycles or unusual references may cause memory leaks if not handled properly.\n",
        "\n",
        "2. Unpredictable Garbage Collection Timing\n",
        "Garbage collection runs periodically, not immediately when objects become unreachable.\n",
        "\n",
        "This can lead to delayed freeing of memory, causing higher memory usage temporarily.\n",
        "\n",
        "3. Memory Fragmentation\n",
        "Frequent allocation and deallocation of objects of different sizes can cause fragmentation in the memory heap.\n",
        "\n",
        "Fragmentation can reduce available memory and degrade performance.\n",
        "\n",
        "4. Large Object Overhead\n",
        "Python objects have additional metadata overhead (like reference count, type info), making them larger than raw data.\n",
        "\n",
        "Managing many small objects can consume more memory than expected.\n",
        "\n",
        "5. Global Interpreter Lock (GIL) Effects\n",
        "Python’s GIL limits true parallel execution of threads, which affects how memory is accessed and managed in multithreaded programs.\n",
        "\n",
        "This can complicate memory usage optimization in concurrent applications.\n",
        "\n",
        "6. Manual Memory Management in Extensions\n",
        "When using Python extensions in C/C++ or interfacing with external libraries, improper memory handling can lead to leaks or crashes.\n",
        "\n",
        "7. Unintentional Object Retention\n",
        "Holding references unintentionally (e.g., in global variables, caches, closures) can prevent objects from being garbage collected, causing memory bloat."
      ],
      "metadata": {
        "id": "GL8yXv2uWDFm"
      }
    },
    {
      "cell_type": "markdown",
      "source": [
        "24.How do you raise an exception manually in Python?\n",
        "- In Python, you raise an exception manually using the raise statement. This allows you to signal that an error or exceptional condition has occurred in your code.\n",
        "\n",
        "The basic syntax is:\n",
        "\n",
        "raise ExceptionType(\"An optional error message\")\n",
        "\n",
        "Here's a breakdown of how it works and common scenarios:\n",
        "\n",
        "1. Raising a Built-in Exception\n",
        "Python comes with many built-in exception types that cover common error scenarios.\n",
        "\n",
        "Example: Raising a ValueError\n",
        "\n"
      ],
      "metadata": {
        "id": "EJ6SaFr6WvOz"
      }
    },
    {
      "cell_type": "code",
      "source": [
        "def process_age(age):\n",
        "    if not isinstance(age, int) or age < 0:\n",
        "        raise ValueError(\"Age must be a non-negative integer.\")\n",
        "    print(f\"Processing age: {age}\")\n",
        "\n",
        "try:\n",
        "    process_age(-5)\n",
        "except ValueError as e:\n",
        "    print(f\"Error: {e}\")\n",
        "\n",
        "try:\n",
        "    process_age(30)\n",
        "except ValueError as e:\n",
        "    print(f\"Error: {e}\")"
      ],
      "metadata": {
        "colab": {
          "base_uri": "https://localhost:8080/"
        },
        "id": "PjKmlRThW-OK",
        "outputId": "c73c48f9-8900-4969-d745-775c07894119"
      },
      "execution_count": 10,
      "outputs": [
        {
          "output_type": "stream",
          "name": "stdout",
          "text": [
            "Error: Age must be a non-negative integer.\n",
            "Processing age: 30\n"
          ]
        }
      ]
    },
    {
      "cell_type": "markdown",
      "source": [
        "Example: Raising a TypeError"
      ],
      "metadata": {
        "id": "L8-5nIkpXNsx"
      }
    },
    {
      "cell_type": "code",
      "source": [
        "def divide(a, b):\n",
        "    if not isinstance(a, (int, float)) or not isinstance(b, (int, float)):\n",
        "        raise TypeError(\"Both arguments must be numbers.\")\n",
        "    if b == 0:\n",
        "        raise ZeroDivisionError(\"Cannot divide by zero.\")\n",
        "    return a / b\n",
        "\n",
        "try:\n",
        "    result = divide(10, \"2\")\n",
        "except TypeError as e:\n",
        "    print(f\"Error: {e}\")\n",
        "\n",
        "try:\n",
        "    result = divide(10, 0)\n",
        "except ZeroDivisionError as e:\n",
        "    print(f\"Error: {e}\")"
      ],
      "metadata": {
        "colab": {
          "base_uri": "https://localhost:8080/"
        },
        "id": "M8G00GuTXJOU",
        "outputId": "99e83ff0-a3c7-4312-bf00-17618b5b03ba"
      },
      "execution_count": 11,
      "outputs": [
        {
          "output_type": "stream",
          "name": "stdout",
          "text": [
            "Error: Both arguments must be numbers.\n",
            "Error: Cannot divide by zero.\n"
          ]
        }
      ]
    },
    {
      "cell_type": "markdown",
      "source": [
        "2.Raising a Custom Exception\n",
        "For more specific error conditions in your application, you can define your own custom exception classes. It's good practice to inherit from Exception (or a more specific built-in exception) for your custom exceptions."
      ],
      "metadata": {
        "id": "6D0h440zXXbn"
      }
    },
    {
      "cell_type": "code",
      "source": [
        "class InsufficientFundsError(Exception):\n",
        "    \"\"\"Exception raised for errors in the input salary.\"\"\"\n",
        "    def __init__(self, message=\"Not enough money in the account.\"):\n",
        "        self.message = message\n",
        "        super().__init__(self.message)\n",
        "\n",
        "def withdraw(balance, amount):\n",
        "    if amount > balance:\n",
        "        raise InsufficientFundsError(f\"Attempted to withdraw {amount}, but only {balance} is available.\")\n",
        "    return balance - amount\n",
        "\n",
        "# Example usage\n",
        "account_balance = 100\n",
        "withdrawal_amount = 150\n",
        "\n",
        "try:\n",
        "    new_balance = withdraw(account_balance, withdrawal_amount)\n",
        "    print(f\"New balance: {new_balance}\")\n",
        "except InsufficientFundsError as e:\n",
        "    print(f\"Transaction failed: {e}\")\n",
        "\n",
        "account_balance = 200\n",
        "withdrawal_amount = 50\n",
        "try:\n",
        "    new_balance = withdraw(account_balance, withdrawal_amount)\n",
        "    print(f\"New balance: {new_balance}\")\n",
        "except InsufficientFundsError as e:\n",
        "    print(f\"Transaction failed: {e}\")"
      ],
      "metadata": {
        "colab": {
          "base_uri": "https://localhost:8080/"
        },
        "id": "MflaITuwXTcc",
        "outputId": "9adc1036-f114-4ccf-cf0e-b3ff1e60534b"
      },
      "execution_count": 13,
      "outputs": [
        {
          "output_type": "stream",
          "name": "stdout",
          "text": [
            "Transaction failed: Attempted to withdraw 150, but only 100 is available.\n",
            "New balance: 150\n"
          ]
        }
      ]
    },
    {
      "cell_type": "markdown",
      "source": [
        "25.Why is it important to use multithreading in certain applications?\n",
        "- Using multithreading is important in certain applications because it allows your program to perform multiple tasks concurrently, improving efficiency and responsiveness. Here are some key reasons why multithreading is valuable:\n",
        "\n",
        "1. Improved Responsiveness\n",
        "- In GUI applications or servers, multithreading keeps the interface or service responsive while performing background tasks.\n",
        "- For example, a file download or data processing can run in a separate thread so the main program doesn’t freeze.\n",
        "\n",
        "2. Better Resource Utilization\n",
        "- On systems with multiple CPU cores, threads can run in parallel (especially with I/O-bound tasks), making better use of CPU and I/O resources.\n",
        "\n",
        "3. Handling I/O-bound Operations\n",
        "- Multithreading is especially effective for I/O-bound tasks (file operations, network requests, database queries) because while one thread waits for I/O, others can continue running.\n",
        "- This improves throughput and reduces idle time.\n",
        "\n",
        "4. Simpler Program Structure\n",
        "- Using threads can simplify the design of programs that need to perform multiple simultaneous operations (like handling multiple clients in a server).\n",
        "\n",
        "5. Asynchronous Tasks\n",
        "- Threads can handle background tasks such as logging, monitoring, or periodic updates without blocking the main program flow.\n",
        "\n",
        "When to Use Multithreading\n",
        "- I/O-bound programs (networking, file I/O, web servers)\n",
        "- User interfaces needing smooth interaction during background work\n",
        "- Lightweight concurrency where tasks spend time waiting\n",
        "\n"
      ],
      "metadata": {
        "id": "wbIhLxQqXrXU"
      }
    },
    {
      "cell_type": "markdown",
      "source": [
        "**Practical Questions**"
      ],
      "metadata": {
        "id": "4lRMS5QVYHUQ"
      }
    },
    {
      "cell_type": "markdown",
      "source": [
        "1.How can you open a file for writing in Python and write a string to it?\n",
        "- You can open a file for writing in Python using the built-in open() function with the mode 'w', and write a string using the .write() method.\n",
        "\n"
      ],
      "metadata": {
        "id": "JVg9karbYJet"
      }
    },
    {
      "cell_type": "code",
      "source": [
        "# Open file in write mode\n",
        "with open(\"example.txt\", \"w\") as file:\n",
        "    file.write(\"Hello, this is a string written to the file.\")\n"
      ],
      "metadata": {
        "id": "9DeMFu3cYEp6"
      },
      "execution_count": 14,
      "outputs": []
    },
    {
      "cell_type": "markdown",
      "source": [
        "Explanation:\n",
        "- \"example.txt\" – Name of the file to write to.\n",
        "- \"w\" – Write mode. It creates the file if it doesn't exist or overwrites it if it does.\n",
        "- with statement – Ensures the file is automatically closed after writing.\n",
        "- .write() – Writes the string into the file.\n",
        "\n",
        "Important Notes:\n",
        "- If the file already exists, 'w' clears its contents before writing.\n",
        "- If you want to append instead of overwrite, use mode 'a'."
      ],
      "metadata": {
        "id": "5mQLU0lfYdfw"
      }
    },
    {
      "cell_type": "markdown",
      "source": [
        "2.Write a Python program to read the contents of a file and print each line.\n"
      ],
      "metadata": {
        "id": "ojE2vwffYlkp"
      }
    },
    {
      "cell_type": "code",
      "source": [
        "# Open the file in read mode\n",
        "with open(\"example.txt\", \"r\") as file:\n",
        "    # Loop through each line in the file\n",
        "    for line in file:\n",
        "        print(line.strip())  # .strip() removes the newline character\n"
      ],
      "metadata": {
        "colab": {
          "base_uri": "https://localhost:8080/"
        },
        "id": "EKbto38nYZqJ",
        "outputId": "bd4b2418-8c16-4087-fcf6-94548d134060"
      },
      "execution_count": 15,
      "outputs": [
        {
          "output_type": "stream",
          "name": "stdout",
          "text": [
            "Hello, this is a string written to the file.\n"
          ]
        }
      ]
    },
    {
      "cell_type": "markdown",
      "source": [
        "Explanation:\n",
        "- open(\"example.txt\", \"r\"): Opens the file in read mode.\n",
        "- for line in file:: Iterates through each line of the file.\n",
        "- line.strip(): Removes leading/trailing whitespace, including \\n."
      ],
      "metadata": {
        "id": "ffKB9uo-Y2aT"
      }
    },
    {
      "cell_type": "markdown",
      "source": [
        "3.How would you handle a case where the file doesn't exist while trying to open it for reading?\n"
      ],
      "metadata": {
        "id": "pKo2uiKIY6n-"
      }
    },
    {
      "cell_type": "code",
      "source": [
        "try:\n",
        "    with open(\"example.txt\", \"r\") as file:\n",
        "        for line in file:\n",
        "            print(line.strip())\n",
        "except FileNotFoundError:\n",
        "    print(\"Error: The file does not exist.\")\n"
      ],
      "metadata": {
        "colab": {
          "base_uri": "https://localhost:8080/"
        },
        "id": "en0Iffh-Yzim",
        "outputId": "4cb35748-c461-4536-c63f-83908896e841"
      },
      "execution_count": 16,
      "outputs": [
        {
          "output_type": "stream",
          "name": "stdout",
          "text": [
            "Hello, this is a string written to the file.\n"
          ]
        }
      ]
    },
    {
      "cell_type": "markdown",
      "source": [
        "Explanation:\n",
        "- try: attempts to open and read the file.\n",
        "- except FileNotFoundError: catches the specific error if the file is missing.\n",
        "- You can print a custom message or even create the file if needed.\n",
        "\n",
        "\n",
        "Optional: Create file if missing\n",
        "\n"
      ],
      "metadata": {
        "id": "wldro2zCZLBT"
      }
    },
    {
      "cell_type": "code",
      "source": [
        "try:\n",
        "    with open(\"example.txt\", \"r\") as file:\n",
        "        print(file.read())\n",
        "except FileNotFoundError:\n",
        "    print(\"File not found. Creating a new one.\")\n",
        "    with open(\"example.txt\", \"w\") as file:\n",
        "        file.write(\"This is a new file.\")\n"
      ],
      "metadata": {
        "colab": {
          "base_uri": "https://localhost:8080/"
        },
        "id": "lAjUZT6_ZIGd",
        "outputId": "20a77654-5ac6-4380-8ce9-7e29d5f7d6d4"
      },
      "execution_count": 17,
      "outputs": [
        {
          "output_type": "stream",
          "name": "stdout",
          "text": [
            "Hello, this is a string written to the file.\n"
          ]
        }
      ]
    },
    {
      "cell_type": "markdown",
      "source": [
        "4.Write a Python script that reads from one file and writes its content to another file."
      ],
      "metadata": {
        "id": "nMcToiebZTpa"
      }
    },
    {
      "cell_type": "code",
      "source": [
        "# Read from source file and write to destination file\n",
        "try:\n",
        "    with open(\"source.txt\", \"r\") as source_file:\n",
        "        content = source_file.read()\n",
        "\n",
        "    with open(\"destination.txt\", \"w\") as destination_file:\n",
        "        destination_file.write(content)\n",
        "\n",
        "    print(\"Content successfully copied from source.txt to destination.txt.\")\n",
        "except FileNotFoundError:\n",
        "    print(\"Error: source.txt does not exist.\")\n"
      ],
      "metadata": {
        "colab": {
          "base_uri": "https://localhost:8080/"
        },
        "id": "3wLScqXUZSi7",
        "outputId": "91f3b349-bfed-4ae3-9b3b-fa8fb2f52e43"
      },
      "execution_count": 18,
      "outputs": [
        {
          "output_type": "stream",
          "name": "stdout",
          "text": [
            "Error: source.txt does not exist.\n"
          ]
        }
      ]
    },
    {
      "cell_type": "markdown",
      "source": [
        "Explanation:\n",
        "open(\"source.txt\", \"r\") – Opens the source file for reading.\n",
        "\n",
        "open(\"destination.txt\", \"w\") – Opens or creates the destination file for writing.\n",
        "\n",
        ".read() – Reads the full content from the source.\n",
        "\n",
        ".write() – Writes the content to the destination.\n",
        "\n",
        "The try-except block handles the case where the source file might not exist."
      ],
      "metadata": {
        "id": "_Pw6rOx_Zh19"
      }
    },
    {
      "cell_type": "markdown",
      "source": [
        "5.How would you catch and handle division by zero error in Python?\n",
        "\n",
        "\n"
      ],
      "metadata": {
        "id": "SHSe4X1qZjcl"
      }
    },
    {
      "cell_type": "code",
      "source": [
        "try:\n",
        "    numerator = 10\n",
        "    denominator = 0\n",
        "    result = numerator / denominator\n",
        "    print(\"Result:\", result)\n",
        "except ZeroDivisionError:\n",
        "    print(\"Error: Cannot divide by zero.\")\n"
      ],
      "metadata": {
        "colab": {
          "base_uri": "https://localhost:8080/"
        },
        "id": "m7SxcByPZetw",
        "outputId": "38b1d2e3-9844-4afa-a8ef-2b74c9402752"
      },
      "execution_count": 19,
      "outputs": [
        {
          "output_type": "stream",
          "name": "stdout",
          "text": [
            "Error: Cannot divide by zero.\n"
          ]
        }
      ]
    },
    {
      "cell_type": "markdown",
      "source": [
        "Explanation:\n",
        "- try: – Contains code that might raise an exception.\n",
        "- except ZeroDivisionError: – Catches the specific error that occurs when dividing by zero.\n",
        "- The program continues running normally instead of crashing.\n",
        "\n",
        "Optional: Add else and finally\n",
        "\n"
      ],
      "metadata": {
        "id": "0bRxTkALZx5l"
      }
    },
    {
      "cell_type": "code",
      "source": [
        "try:\n",
        "    numerator = 10\n",
        "    denominator = 2\n",
        "    result = numerator / denominator\n",
        "except ZeroDivisionError:\n",
        "    print(\"Error: Division by zero.\")\n",
        "else:\n",
        "    print(\"Result:\", result)\n",
        "finally:\n",
        "    print(\"This always runs.\")\n"
      ],
      "metadata": {
        "colab": {
          "base_uri": "https://localhost:8080/"
        },
        "id": "beUvzJm6ZtVF",
        "outputId": "2f2e06ad-2ee9-4933-c16c-eadbf8603bc4"
      },
      "execution_count": 20,
      "outputs": [
        {
          "output_type": "stream",
          "name": "stdout",
          "text": [
            "Result: 5.0\n",
            "This always runs.\n"
          ]
        }
      ]
    },
    {
      "cell_type": "markdown",
      "source": [
        "6.Write a Python program that logs an error message to a log file when a division by zero exception occurs.\n"
      ],
      "metadata": {
        "id": "WRmNulwyZ8ja"
      }
    },
    {
      "cell_type": "code",
      "source": [
        "import logging\n",
        "\n",
        "# Configure logging to write to a file\n",
        "logging.basicConfig(filename='error_log.txt', level=logging.ERROR,\n",
        "                    format='%(asctime)s - %(levelname)s - %(message)s')\n",
        "\n",
        "def divide(a, b):\n",
        "    try:\n",
        "        result = a / b\n",
        "        print(\"Result:\", result)\n",
        "    except ZeroDivisionError:\n",
        "        logging.error(\"Attempted to divide %d by zero.\", a)\n",
        "        print(\"Error: Cannot divide by zero.\")\n",
        "\n",
        "# Example usage\n",
        "divide(10, 0)\n"
      ],
      "metadata": {
        "colab": {
          "base_uri": "https://localhost:8080/"
        },
        "id": "-U1iUT6sZ4tp",
        "outputId": "ca911cf7-ae32-4d3f-d644-b2b7bb978d42"
      },
      "execution_count": 21,
      "outputs": [
        {
          "output_type": "stream",
          "name": "stderr",
          "text": [
            "ERROR:root:Attempted to divide 10 by zero.\n"
          ]
        },
        {
          "output_type": "stream",
          "name": "stdout",
          "text": [
            "Error: Cannot divide by zero.\n"
          ]
        }
      ]
    },
    {
      "cell_type": "markdown",
      "source": [
        "7.How do you log information at different levels (INFO, ERROR, WARNING) in Python using the logging module."
      ],
      "metadata": {
        "id": "cuZwp03BaETN"
      }
    },
    {
      "cell_type": "code",
      "source": [
        "import logging\n",
        "\n",
        "# Configure logging\n",
        "logging.basicConfig(\n",
        "    filename='app.log',         # Log file name\n",
        "    level=logging.DEBUG,        # Minimum level to capture\n",
        "    format='%(asctime)s - %(levelname)s - %(message)s'\n",
        ")\n",
        "\n",
        "# Logging at different levels\n",
        "logging.debug(\"This is a debug message.\")\n",
        "logging.info(\"This is an info message.\")\n",
        "logging.warning(\"This is a warning message.\")\n",
        "logging.error(\"This is an error message.\")\n",
        "logging.critical(\"This is a critical message.\")\n"
      ],
      "metadata": {
        "colab": {
          "base_uri": "https://localhost:8080/"
        },
        "id": "L1B5_bacaDi3",
        "outputId": "073f34da-c3c4-4cf5-dc05-214bca5dc2c2"
      },
      "execution_count": 22,
      "outputs": [
        {
          "output_type": "stream",
          "name": "stderr",
          "text": [
            "WARNING:root:This is a warning message.\n",
            "ERROR:root:This is an error message.\n",
            "CRITICAL:root:This is a critical message.\n"
          ]
        }
      ]
    },
    {
      "cell_type": "markdown",
      "source": [
        "8.Write a program to handle a file opening error using exception handling."
      ],
      "metadata": {
        "id": "wgg-kRklaPyY"
      }
    },
    {
      "cell_type": "code",
      "source": [
        "try:\n",
        "    # Try to open a file that may not exist\n",
        "    with open(\"non_existing_file.txt\", \"r\") as file:\n",
        "        content = file.read()\n",
        "        print(content)\n",
        "\n",
        "except FileNotFoundError:\n",
        "    print(\"Error: The file was not found.\")\n",
        "\n",
        "except PermissionError:\n",
        "    print(\"Error: You do not have permission to open this file.\")\n",
        "\n",
        "except Exception as e:\n",
        "    print(f\"An unexpected error occurred: {e}\")\n"
      ],
      "metadata": {
        "colab": {
          "base_uri": "https://localhost:8080/"
        },
        "id": "FQh-SHGwaPA3",
        "outputId": "85694ed9-75d9-43d6-e5f8-e71dc6bca3d9"
      },
      "execution_count": 23,
      "outputs": [
        {
          "output_type": "stream",
          "name": "stdout",
          "text": [
            "Error: The file was not found.\n"
          ]
        }
      ]
    },
    {
      "cell_type": "markdown",
      "source": [
        "Explanation:\n",
        "- FileNotFoundError: Catches the error if the file doesn't exist.\n",
        "- PermissionError: Handles cases where the file exists but access is denied.\n",
        "- Exception: Catches any other unexpected errors and prints the exception message."
      ],
      "metadata": {
        "id": "2VhL8xSpaeaC"
      }
    },
    {
      "cell_type": "markdown",
      "source": [
        "9.How can you read a file line by line and store its content in a list in Python?\n",
        "- Method 1: Using a for loop (Most Pythonic and Recommended)\n",
        "This is generally the most memory-efficient and Pythonic way, especially for large files, because it iterates over the file object line by line without loading the entire file into memory at once.\n",
        "\n"
      ],
      "metadata": {
        "id": "4LnKO-6Gajgx"
      }
    },
    {
      "cell_type": "code",
      "source": [
        "file_path = 'my_file.txt'  # Replace with your file's path\n",
        "lines = []\n",
        "\n",
        "try:\n",
        "    with open(file_path, 'r', encoding='utf-8') as file:\n",
        "        for line in file:\n",
        "            lines.append(line.strip())  # .strip() removes leading/trailing whitespace, including newline characters\n",
        "except FileNotFoundError:\n",
        "    print(f\"Error: The file '{file_path}' was not found.\")\n",
        "except Exception as e:\n",
        "    print(f\"An error occurred: {e}\")\n",
        "\n",
        "print(lines)"
      ],
      "metadata": {
        "colab": {
          "base_uri": "https://localhost:8080/"
        },
        "id": "vKZSQI5_abnb",
        "outputId": "40c21b72-02ec-468e-b54d-1d1a946aecdc"
      },
      "execution_count": 24,
      "outputs": [
        {
          "output_type": "stream",
          "name": "stdout",
          "text": [
            "Error: The file 'my_file.txt' was not found.\n",
            "[]\n"
          ]
        }
      ]
    },
    {
      "cell_type": "markdown",
      "source": [
        "Explanation:\n",
        "\n",
        "- with open(file_path, 'r', encoding='utf-8') as file:: This is the preferred way to open files.\n",
        "- 'r' specifies read mode.\n",
        "- encoding='utf-8' is crucial for handling various characters correctly. It's good practice to always specify an encoding.\n",
        "- The with statement ensures the file is automatically closed even if errors occur.\n",
        "- for line in file:: This directly iterates over the file object, yielding one line at a time.\n",
        "- lines.append(line.strip()):\n",
        "- line: Each line read from the file will include the newline character (\\n) at the end.\n",
        "- .strip(): This string method removes leading and trailing whitespace characters, including the newline character, from each line. If you want to keep the newline character, simply use lines.append(line).\n",
        "\n",
        "Method 2: Using readlines()\n",
        "The readlines() method reads all lines from the file and returns them as a list of strings, where each string contains the newline character at the end. This is convenient for smaller files but can consume a lot of memory for very large files."
      ],
      "metadata": {
        "id": "kAIFQ3H7a3nF"
      }
    },
    {
      "cell_type": "code",
      "source": [
        "file_path = 'my_file.txt'\n",
        "lines = []\n",
        "\n",
        "try:\n",
        "    with open(file_path, 'r', encoding='utf-8') as file:\n",
        "        lines = file.readlines()\n",
        "    # Optional: Strip newline characters from each line\n",
        "    lines = [line.strip() for line in lines]\n",
        "except FileNotFoundError:\n",
        "    print(f\"Error: The file '{file_path}' was not found.\")\n",
        "except Exception as e:\n",
        "    print(f\"An error occurred: {e}\")\n",
        "\n",
        "print(lines)"
      ],
      "metadata": {
        "colab": {
          "base_uri": "https://localhost:8080/"
        },
        "id": "eOFS6VTMa0cy",
        "outputId": "cc9188d6-ebea-42bb-d482-69067bccbd7a"
      },
      "execution_count": 25,
      "outputs": [
        {
          "output_type": "stream",
          "name": "stdout",
          "text": [
            "Error: The file 'my_file.txt' was not found.\n",
            "[]\n"
          ]
        }
      ]
    },
    {
      "cell_type": "markdown",
      "source": [
        "10.How can you append data to an existing file in Python?\n",
        "- To append data to an existing file in Python, you can open the file in append mode using 'a' or 'a+' with the open() function. This adds data to the end of the file without overwriting its existing content.\n",
        "\n",
        "-Example: Appending a line to a file\n",
        "\n",
        "\n"
      ],
      "metadata": {
        "id": "AMXPIjfcbHIC"
      }
    },
    {
      "cell_type": "code",
      "source": [
        "with open(\"example.txt\", \"a\") as file:\n",
        "    file.write(\"This line is appended.\\n\")\n"
      ],
      "metadata": {
        "id": "t0zgwgsmbDoc"
      },
      "execution_count": 26,
      "outputs": []
    },
    {
      "cell_type": "markdown",
      "source": [
        "Explanation:\n",
        "\"a\" mode opens the file for appending (creates it if it doesn't exist).\n",
        "\n",
        ".write() adds the specified string to the end of the file.\n",
        "\n",
        "\\n ensures the text appears on a new line.\n",
        "\n",
        "✅ Example: Read after appending (optional)"
      ],
      "metadata": {
        "id": "kDBo0fulbeV_"
      }
    },
    {
      "cell_type": "code",
      "source": [
        "# Append to the file\n",
        "with open(\"example.txt\", \"a\") as file:\n",
        "    file.write(\"Another new line.\\n\")\n",
        "\n",
        "# Read the updated file\n",
        "with open(\"example.txt\", \"r\") as file:\n",
        "    print(file.read())\n"
      ],
      "metadata": {
        "colab": {
          "base_uri": "https://localhost:8080/"
        },
        "id": "OJbUbX0abbGO",
        "outputId": "a8b744f4-a678-4d33-c44f-82a706413455"
      },
      "execution_count": 27,
      "outputs": [
        {
          "output_type": "stream",
          "name": "stdout",
          "text": [
            "Hello, this is a string written to the file.This line is appended.\n",
            "Another new line.\n",
            "\n"
          ]
        }
      ]
    },
    {
      "cell_type": "markdown",
      "source": [
        "11.Write a Python program that uses a try-except block to handle an error when attempting to access a dictionary key that doesn't exist."
      ],
      "metadata": {
        "id": "c9A7NAm9bkoR"
      }
    },
    {
      "cell_type": "code",
      "source": [
        "my_dict = {\"name\": \"Alice\", \"age\": 25}\n",
        "\n",
        "try:\n",
        "    # Attempt to access a key that might not exist\n",
        "    value = my_dict[\"address\"]\n",
        "    print(\"Address:\", value)\n",
        "except KeyError:\n",
        "    print(\"Error: The key 'address' does not exist in the dictionary.\")\n"
      ],
      "metadata": {
        "colab": {
          "base_uri": "https://localhost:8080/"
        },
        "id": "DsNqJWfObhXV",
        "outputId": "a4acf075-2fb6-4b97-ac25-e5a527807448"
      },
      "execution_count": 28,
      "outputs": [
        {
          "output_type": "stream",
          "name": "stdout",
          "text": [
            "Error: The key 'address' does not exist in the dictionary.\n"
          ]
        }
      ]
    },
    {
      "cell_type": "markdown",
      "source": [
        "Explanation:\n",
        "- The program tries to access the key \"address\".\n",
        "- Since \"address\" is not in my_dict, a KeyError is raised.\n",
        "- The except KeyError block catches the error and prints a friendly message instead of crashing."
      ],
      "metadata": {
        "id": "5tpjVEyNbtyV"
      }
    },
    {
      "cell_type": "markdown",
      "source": [
        "12.Write a program that demonstrates using multiple except blocks to handle different types of exceptions."
      ],
      "metadata": {
        "id": "7sBOSx78bxWb"
      }
    },
    {
      "cell_type": "code",
      "source": [
        "try:\n",
        "    # Example code that can raise different exceptions\n",
        "    num1 = int(input(\"Enter numerator: \"))\n",
        "    num2 = int(input(\"Enter denominator: \"))\n",
        "    result = num1 / num2\n",
        "\n",
        "    # Accessing a dictionary key that may not exist\n",
        "    my_dict = {\"name\": \"Alice\"}\n",
        "    print(\"Age:\", my_dict[\"age\"])\n",
        "\n",
        "    print(\"Result:\", result)\n",
        "\n",
        "except ZeroDivisionError:\n",
        "    print(\"Error: Cannot divide by zero.\")\n",
        "\n",
        "except ValueError:\n",
        "    print(\"Error: Invalid input! Please enter an integer.\")\n",
        "\n",
        "except KeyError:\n",
        "    print(\"Error: The requested key does not exist in the dictionary.\")\n",
        "\n",
        "except Exception as e:\n",
        "    print(f\"An unexpected error occurred: {e}\")\n"
      ],
      "metadata": {
        "colab": {
          "base_uri": "https://localhost:8080/"
        },
        "id": "R0eoj0azbrcJ",
        "outputId": "132ccb3d-bfad-419d-8108-c327e5650b81"
      },
      "execution_count": 29,
      "outputs": [
        {
          "output_type": "stream",
          "name": "stdout",
          "text": [
            "Enter numerator: 10\n",
            "Enter denominator: 0\n",
            "Error: Cannot divide by zero.\n"
          ]
        }
      ]
    },
    {
      "cell_type": "markdown",
      "source": [
        "13.How would you check if a file exists before attempting to read it in Python?"
      ],
      "metadata": {
        "id": "NAx1p0OWcWR5"
      }
    },
    {
      "cell_type": "code",
      "source": [
        "# Using os.path:\n",
        "\n",
        "\n",
        "import os\n",
        "\n",
        "file_path = \"example.txt\"\n",
        "\n",
        "if os.path.exists(file_path):\n",
        "    with open(file_path, \"r\") as file:\n",
        "        content = file.read()\n",
        "        print(content)\n",
        "else:\n",
        "    print(f\"The file '{file_path}' does not exist.\")\n"
      ],
      "metadata": {
        "colab": {
          "base_uri": "https://localhost:8080/"
        },
        "id": "ibiIQJyecLUo",
        "outputId": "742b9de0-0c2c-4672-c232-385f05c4f45f"
      },
      "execution_count": 30,
      "outputs": [
        {
          "output_type": "stream",
          "name": "stdout",
          "text": [
            "Hello, this is a string written to the file.This line is appended.\n",
            "Another new line.\n",
            "\n"
          ]
        }
      ]
    },
    {
      "cell_type": "code",
      "source": [
        "# Using pathlib (recommended in modern Python):\n",
        "\n",
        "\n",
        "from pathlib import Path\n",
        "\n",
        "file_path = Path(\"example.txt\")\n",
        "\n",
        "if file_path.is_file():\n",
        "    with open(file_path, \"r\") as file:\n",
        "        content = file.read()\n",
        "        print(content)\n",
        "else:\n",
        "    print(f\"The file '{file_path}' does not exist.\")\n"
      ],
      "metadata": {
        "colab": {
          "base_uri": "https://localhost:8080/"
        },
        "id": "v902-lAnclH1",
        "outputId": "24122335-b7cd-4c8b-bc51-af2d6a4e633d"
      },
      "execution_count": 31,
      "outputs": [
        {
          "output_type": "stream",
          "name": "stdout",
          "text": [
            "Hello, this is a string written to the file.This line is appended.\n",
            "Another new line.\n",
            "\n"
          ]
        }
      ]
    },
    {
      "cell_type": "markdown",
      "source": [
        "14.Write a program that uses the logging module to log both informational and error messages."
      ],
      "metadata": {
        "id": "qn8Sy9RDcs5o"
      }
    },
    {
      "cell_type": "code",
      "source": [
        "# Python Program with INFO and ERROR logging\n",
        "\n",
        "import logging\n",
        "\n",
        "# Configure logging to log to both a file and the console\n",
        "logging.basicConfig(\n",
        "    level=logging.DEBUG,  # Capture all levels DEBUG and above\n",
        "    format='%(asctime)s - %(levelname)s - %(message)s',\n",
        "    handlers=[\n",
        "        logging.FileHandler(\"app.log\"),    # Log to a file\n",
        "        logging.StreamHandler()             # Log to console\n",
        "    ]\n",
        ")\n",
        "\n",
        "def divide(a, b):\n",
        "    logging.info(f\"Attempting to divide {a} by {b}.\")\n",
        "    try:\n",
        "        result = a / b\n",
        "        logging.info(f\"Division successful: result is {result}.\")\n",
        "        return result\n",
        "    except ZeroDivisionError:\n",
        "        logging.error(\"Division by zero error occurred!\")\n",
        "        return None\n",
        "\n",
        "# Example usage\n",
        "divide(10, 2)\n",
        "divide(5, 0)\n"
      ],
      "metadata": {
        "colab": {
          "base_uri": "https://localhost:8080/"
        },
        "id": "vKzas0Q6cq8d",
        "outputId": "bcf44c58-7025-4376-89c6-7d6d48f75a23"
      },
      "execution_count": 32,
      "outputs": [
        {
          "output_type": "stream",
          "name": "stderr",
          "text": [
            "ERROR:root:Division by zero error occurred!\n"
          ]
        }
      ]
    },
    {
      "cell_type": "markdown",
      "source": [
        "15.Write a Python program that prints the content of a file and handles the case when the file is empty."
      ],
      "metadata": {
        "id": "iIsy1GdZc5p1"
      }
    },
    {
      "cell_type": "code",
      "source": [
        "file_path = \"example.txt\"\n",
        "\n",
        "try:\n",
        "    with open(file_path, \"r\") as file:\n",
        "        content = file.read()\n",
        "        if content:\n",
        "            print(\"File content:\")\n",
        "            print(content)\n",
        "        else:\n",
        "            print(\"The file is empty.\")\n",
        "except FileNotFoundError:\n",
        "    print(f\"Error: The file '{file_path}' does not exist.\")\n",
        "except Exception as e:\n",
        "    print(f\"An unexpected error occurred: {e}\")\n"
      ],
      "metadata": {
        "colab": {
          "base_uri": "https://localhost:8080/"
        },
        "id": "9UQq4L_2c43y",
        "outputId": "390850a8-87be-4094-d4ca-ebb7bc70bcb1"
      },
      "execution_count": 33,
      "outputs": [
        {
          "output_type": "stream",
          "name": "stdout",
          "text": [
            "File content:\n",
            "Hello, this is a string written to the file.This line is appended.\n",
            "Another new line.\n",
            "\n"
          ]
        }
      ]
    },
    {
      "cell_type": "markdown",
      "source": [
        "16.Demonstrate how to use memory profiling to check the memory usage of a small program."
      ],
      "metadata": {
        "id": "06saVIa0dDqd"
      }
    },
    {
      "cell_type": "code",
      "source": [
        "# my_program.py\n",
        "from memory_profiler import profile\n",
        "\n",
        "@profile\n",
        "def create_large_list():\n",
        "    \"\"\"Creates a large list to demonstrate memory usage.\"\"\"\n",
        "    my_list = [i * 100 for i in range(10**6)]  # Create a list of 1 million integers\n",
        "    # Let's create another list to see the increment\n",
        "    another_list = ['hello'] * (5 * 10**5) # 500,000 strings\n",
        "    del another_list # Explicitly delete one list to see memory reduction\n",
        "    return my_list\n",
        "\n",
        "@profile\n",
        "def another_function():\n",
        "    \"\"\"A smaller function to show how multiple profiles work.\"\"\"\n",
        "    small_list = [str(i) for i in range(1000)]\n",
        "    return small_list\n",
        "\n",
        "if __name__ == \"__main__\":\n",
        "    print(\"Starting memory profiling demonstration...\")\n",
        "    list1 = create_large_list()\n",
        "    list2 = another_function()\n",
        "    print(\"Program finished. Check the output for memory usage.\")\n",
        "    # Keep references to prevent garbage collection immediately\n",
        "    # In a real scenario, these might be used later or discarded\n",
        "    input(\"Press Enter to exit and see profiling results...\") # Keep program alive for output"
      ],
      "metadata": {
        "colab": {
          "base_uri": "https://localhost:8080/"
        },
        "id": "47qgXeeId6Rw",
        "outputId": "80347010-b2d6-4e57-ace9-7eeb7c9af976"
      },
      "execution_count": 38,
      "outputs": [
        {
          "name": "stdout",
          "output_type": "stream",
          "text": [
            "Starting memory profiling demonstration...\n",
            "ERROR: Could not find file <ipython-input-38-ec2771d22bdc>\n",
            "NOTE: %mprun can only be used on functions defined in physical files, and not in the IPython environment.\n",
            "ERROR: Could not find file <ipython-input-38-ec2771d22bdc>\n",
            "NOTE: %mprun can only be used on functions defined in physical files, and not in the IPython environment.\n",
            "Program finished. Check the output for memory usage.\n",
            "Press Enter to exit and see profiling results...34\n"
          ]
        }
      ]
    },
    {
      "cell_type": "markdown",
      "source": [
        "17.Write a Python program to create and write a list of numbers to a file, one number per line."
      ],
      "metadata": {
        "id": "lWT-zdRKd9jJ"
      }
    },
    {
      "cell_type": "code",
      "source": [
        "numbers = [10, 20, 30, 40, 50]\n",
        "\n",
        "with open(\"numbers.txt\", \"w\") as file:\n",
        "    for number in numbers:\n",
        "        file.write(str(number) + \"\\n\")\n"
      ],
      "metadata": {
        "id": "On6i-00sd60y"
      },
      "execution_count": 39,
      "outputs": []
    },
    {
      "cell_type": "markdown",
      "source": [
        "Explanation:\n",
        "- Opens (or creates) \"numbers.txt\" in write mode.\n",
        "- Iterates over each number in the list.\n",
        "- Converts the number to a string and writes it followed by a newline (\\n)."
      ],
      "metadata": {
        "id": "7INb3cogeHTW"
      }
    },
    {
      "cell_type": "markdown",
      "source": [
        "18.How would you implement a basic logging setup that logs to a file with rotation after 1MB?"
      ],
      "metadata": {
        "id": "UuRr3NFTeKml"
      }
    },
    {
      "cell_type": "code",
      "source": [
        "import logging\n",
        "from logging.handlers import RotatingFileHandler\n",
        "\n",
        "# Create a logger\n",
        "logger = logging.getLogger(\"MyLogger\")\n",
        "logger.setLevel(logging.DEBUG)  # Log all levels DEBUG and above\n",
        "\n",
        "# Create a rotating file handler: max size 1MB, keep 3 backups\n",
        "handler = RotatingFileHandler(\"app.log\", maxBytes=1_000_000, backupCount=3)\n",
        "handler.setLevel(logging.DEBUG)\n",
        "\n",
        "# Create a formatter and set it for the handler\n",
        "formatter = logging.Formatter('%(asctime)s - %(levelname)s - %(message)s')\n",
        "handler.setFormatter(formatter)\n",
        "\n",
        "# Add handler to the logger\n",
        "logger.addHandler(handler)\n",
        "\n",
        "# Example usage\n",
        "logger.info(\"This is an info message.\")\n",
        "logger.error(\"This is an error message.\")\n"
      ],
      "metadata": {
        "colab": {
          "base_uri": "https://localhost:8080/"
        },
        "id": "JHk6kEOueEsN",
        "outputId": "f1f6a1d8-1776-4cce-ca44-c4785ae4c008"
      },
      "execution_count": 40,
      "outputs": [
        {
          "output_type": "stream",
          "name": "stderr",
          "text": [
            "INFO:MyLogger:This is an info message.\n",
            "ERROR:MyLogger:This is an error message.\n"
          ]
        }
      ]
    },
    {
      "cell_type": "markdown",
      "source": [
        "19.Write a program that handles both IndexError and KeyError using a try-except block."
      ],
      "metadata": {
        "id": "YgJYv4LAeTur"
      }
    },
    {
      "cell_type": "code",
      "source": [
        "my_list = [1, 2, 3]\n",
        "my_dict = {\"name\": \"Alice\"}\n",
        "\n",
        "try:\n",
        "    # Accessing an invalid index in the list\n",
        "    print(my_list[5])\n",
        "\n",
        "    # Accessing a non-existent key in the dictionary\n",
        "    print(my_dict[\"age\"])\n",
        "\n",
        "except IndexError:\n",
        "    print(\"Error: List index is out of range.\")\n",
        "\n",
        "except KeyError:\n",
        "    print(\"Error: Dictionary key not found.\")\n"
      ],
      "metadata": {
        "colab": {
          "base_uri": "https://localhost:8080/"
        },
        "id": "ad3gNqOTeS4J",
        "outputId": "98c42236-ae73-49bf-a35f-81e51ba14b37"
      },
      "execution_count": 41,
      "outputs": [
        {
          "output_type": "stream",
          "name": "stdout",
          "text": [
            "Error: List index is out of range.\n"
          ]
        }
      ]
    },
    {
      "cell_type": "markdown",
      "source": [
        "20.How would you open a file and read its contents using a context manager in Python?"
      ],
      "metadata": {
        "id": "klbygA1cedI2"
      }
    },
    {
      "cell_type": "code",
      "source": [
        "file_path = \"example.txt\"\n",
        "\n",
        "with open(file_path, \"r\") as file:\n",
        "    content = file.read()\n",
        "\n",
        "print(content)\n"
      ],
      "metadata": {
        "colab": {
          "base_uri": "https://localhost:8080/"
        },
        "id": "6ZSQqqhoecTa",
        "outputId": "1fe81b12-22e5-4297-b83a-f1c3d6e73b5c"
      },
      "execution_count": 43,
      "outputs": [
        {
          "output_type": "stream",
          "name": "stdout",
          "text": [
            "Hello, this is a string written to the file.This line is appended.\n",
            "Another new line.\n",
            "\n"
          ]
        }
      ]
    },
    {
      "cell_type": "markdown",
      "source": [
        "21.Write a Python program that reads a file and prints the number of occurrences of a specific word."
      ],
      "metadata": {
        "id": "bOBhqn9UfJ2j"
      }
    },
    {
      "cell_type": "code",
      "source": [
        "def count_word_occurrences(file_path, word):\n",
        "    try:\n",
        "        with open(file_path, \"r\") as file:\n",
        "            content = file.read().lower()  # convert to lowercase for case-insensitive matching\n",
        "        # Count occurrences of the word (also lowercase)\n",
        "        count = content.split().count(word.lower())\n",
        "        print(f\"The word '{word}' occurs {count} times in the file.\")\n",
        "    except FileNotFoundError:\n",
        "        print(f\"Error: The file '{file_path}' does not exist.\")\n",
        "    except Exception as e:\n",
        "        print(f\"An error occurred: {e}\")\n",
        "\n",
        "# Example usage\n",
        "count_word_occurrences(\"example.txt\", \"python\")\n"
      ],
      "metadata": {
        "colab": {
          "base_uri": "https://localhost:8080/"
        },
        "id": "Z123Glsse3I1",
        "outputId": "c9ae477a-b5e5-4fcb-f140-1f24c27c2e6d"
      },
      "execution_count": 44,
      "outputs": [
        {
          "output_type": "stream",
          "name": "stdout",
          "text": [
            "The word 'python' occurs 0 times in the file.\n"
          ]
        }
      ]
    },
    {
      "cell_type": "markdown",
      "source": [
        "How it works:\n",
        "- Reads the entire file content.\n",
        "- Converts content and word to lowercase for case-insensitive counting.\n",
        "- Splits content into words and counts matches.\n",
        "- Handles file not found and other exceptions gracefully."
      ],
      "metadata": {
        "id": "zGlweBvih0_E"
      }
    },
    {
      "cell_type": "markdown",
      "source": [
        "22.How can you check if a file is empty before attempting to read its contents."
      ],
      "metadata": {
        "id": "9MN8-F1ch9Rz"
      }
    },
    {
      "cell_type": "code",
      "source": [
        "# Using os.path:\n",
        "\n",
        "\n",
        "import os\n",
        "\n",
        "file_path = \"example.txt\"\n",
        "\n",
        "if os.path.exists(file_path) and os.path.getsize(file_path) > 0:\n",
        "    with open(file_path, \"r\") as file:\n",
        "        content = file.read()\n",
        "        print(content)\n",
        "else:\n",
        "    print(\"The file is empty or does not exist.\")\n"
      ],
      "metadata": {
        "colab": {
          "base_uri": "https://localhost:8080/"
        },
        "id": "Ym5ZTPcrhzG6",
        "outputId": "85568e73-1211-4527-99a1-c3dbe770f9d7"
      },
      "execution_count": 45,
      "outputs": [
        {
          "output_type": "stream",
          "name": "stdout",
          "text": [
            "Hello, this is a string written to the file.This line is appended.\n",
            "Another new line.\n",
            "\n"
          ]
        }
      ]
    },
    {
      "cell_type": "code",
      "source": [
        "# Using pathlib:\n",
        "\n",
        "\n",
        "from pathlib import Path\n",
        "\n",
        "file_path = Path(\"example.txt\")\n",
        "\n",
        "if file_path.is_file() and file_path.stat().st_size > 0:\n",
        "    with open(file_path, \"r\") as file:\n",
        "        content = file.read()\n",
        "        print(content)\n",
        "else:\n",
        "    print(\"The file is empty or does not exist.\")"
      ],
      "metadata": {
        "colab": {
          "base_uri": "https://localhost:8080/"
        },
        "id": "2llmp8YoiIK2",
        "outputId": "43e043b5-6630-466a-befe-c75eb5527088"
      },
      "execution_count": 46,
      "outputs": [
        {
          "output_type": "stream",
          "name": "stdout",
          "text": [
            "Hello, this is a string written to the file.This line is appended.\n",
            "Another new line.\n",
            "\n"
          ]
        }
      ]
    },
    {
      "cell_type": "markdown",
      "source": [
        "Explanation:\n",
        "- os.path.getsize() or file_path.stat().st_size returns the file size in bytes.\n",
        "- If size is 0, the file is empty.\n",
        "- Both methods also check if the file exists before reading."
      ],
      "metadata": {
        "id": "O2k157BsiR--"
      }
    },
    {
      "cell_type": "markdown",
      "source": [
        "23.Write a Python program that writes to a log file when an error occurs during file handling."
      ],
      "metadata": {
        "id": "s0138HKhiWKi"
      }
    },
    {
      "cell_type": "code",
      "source": [
        "import logging\n",
        "\n",
        "# Configure logging to write errors to 'file_errors.log'\n",
        "logging.basicConfig(\n",
        "    filename='file_errors.log',\n",
        "    level=logging.ERROR,\n",
        "    format='%(asctime)s - %(levelname)s - %(message)s'\n",
        ")\n",
        "\n",
        "file_path = \"example.txt\"\n",
        "\n",
        "try:\n",
        "    with open(file_path, \"r\") as file:\n",
        "        content = file.read()\n",
        "        print(content)\n",
        "except Exception as e:\n",
        "    logging.error(f\"Error occurred while handling the file '{file_path}': {e}\")\n",
        "    print(\"An error occurred. Check the log file for details.\")\n"
      ],
      "metadata": {
        "colab": {
          "base_uri": "https://localhost:8080/"
        },
        "id": "-TtbJpyxiPWm",
        "outputId": "5c09e971-8739-4042-873b-21305de92e67"
      },
      "execution_count": 47,
      "outputs": [
        {
          "output_type": "stream",
          "name": "stdout",
          "text": [
            "Hello, this is a string written to the file.This line is appended.\n",
            "Another new line.\n",
            "\n"
          ]
        }
      ]
    },
    {
      "cell_type": "markdown",
      "source": [
        "What this does:\n",
        "- Tries to open and read \"example.txt\".\n",
        "- If an error occurs (e.g., file not found, permission denied), it catches the exception.\n",
        "- Logs the error with timestamp and details to file_errors.log.\n",
        "- Prints a user-friendly message to the console."
      ],
      "metadata": {
        "id": "utAyb89kiu6w"
      }
    }
  ]
}